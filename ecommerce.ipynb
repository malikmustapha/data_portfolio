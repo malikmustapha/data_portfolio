{
 "cells": [
  {
   "cell_type": "code",
   "execution_count": 111,
   "id": "fee278a3-5fab-4659-a034-ffed370547fc",
   "metadata": {},
   "outputs": [],
   "source": [
    "\n",
    "# Import necessary libraries\n",
    "import pandas as pd  # For data manipulation and analysis\n",
    "import numpy as np  # For numerical operations\n",
    "import matplotlib.pyplot as plt\n",
    "import seaborn as sns"
   ]
  },
  {
   "cell_type": "code",
   "execution_count": 112,
   "id": "3244dc5f-8b64-44c6-962a-16af83d41c8d",
   "metadata": {},
   "outputs": [
    {
     "name": "stdout",
     "output_type": "stream",
     "text": [
      "✅ Orders table updated successfully!\n"
     ]
    }
   ],
   "source": [
    "import sqlite3\n",
    "\n",
    "# Connect to the database\n",
    "conn = sqlite3.connect(\"customer_purchases.db\")\n",
    "cursor = conn.cursor()\n",
    "\n",
    "# Manually update the ProductCategory and SalesChannel values for each order\n",
    "orders_update = [\n",
    "    (1, \"Electronics\", \"Online\"),   # OrderID 1: ProductCategory = Electronics, SalesChannel = Online\n",
    "    (2, \"Accessories\", \"Store\"),    # OrderID 2: ProductCategory = Accessories, SalesChannel = Store\n",
    "    (3, \"Electronics\", \"Online\"),   # OrderID 3: ProductCategory = Electronics, SalesChannel = Online\n",
    "    (4, \"Electronics\", \"Online\")    # OrderID 4: ProductCategory = Electronics, SalesChannel = Online\n",
    "]\n",
    "\n",
    "# Correct SQL query to update product category and sales channel for specific orders\n",
    "cursor.executemany('''\n",
    "UPDATE Orders \n",
    "SET ProductCategory = ?, SalesChannel = ?\n",
    "WHERE OrderID = ?;\n",
    "''', orders_update)\n",
    "\n",
    "# Commit and close connection\n",
    "conn.commit()\n",
    "conn.close()\n",
    "\n",
    "print(\"✅ Orders table updated successfully!\")\n"
   ]
  },
  {
   "cell_type": "code",
   "execution_count": 113,
   "id": "888a8a03-3461-4bad-adb3-a093c12ae76f",
   "metadata": {},
   "outputs": [
    {
     "name": "stdout",
     "output_type": "stream",
     "text": [
      "(1, 1, 'Laptop', 1200.5, '2025-03-11', None, None)\n",
      "(2, 1, 'Mouse', 25.99, '2025-03-12', None, None)\n",
      "(3, 2, 'Keyboard', 45.99, '2025-03-10', None, None)\n",
      "(4, 3, 'Monitor', 300.0, '2025-03-09', None, None)\n"
     ]
    }
   ],
   "source": [
    "import sqlite3\n",
    "\n",
    "# Connect to the database\n",
    "conn = sqlite3.connect(\"customer_purchases.db\")\n",
    "cursor = conn.cursor()\n",
    "\n",
    "# Fetch the data to verify the update\n",
    "cursor.execute('SELECT * FROM Orders')\n",
    "rows = cursor.fetchall()\n",
    "\n",
    "# Print all rows to verify the data\n",
    "for row in rows:\n",
    "    print(row)\n",
    "\n",
    "conn.close()\n"
   ]
  },
  {
   "cell_type": "code",
   "execution_count": 114,
   "id": "d66ba8c0-4570-4794-be56-00160592d5bb",
   "metadata": {},
   "outputs": [
    {
     "name": "stdout",
     "output_type": "stream",
     "text": [
      "✅ Enhanced data exported to customer_orders_enhanced.csv\n"
     ]
    }
   ],
   "source": [
    "import sqlite3\n",
    "import csv\n",
    "\n",
    "# Connect to the database\n",
    "conn = sqlite3.connect(\"customer_purchases.db\")\n",
    "cursor = conn.cursor()\n",
    "\n",
    "# Query to join Customers, Orders, and new columns\n",
    "query = '''\n",
    "SELECT Customers.Name, Customers.City, Orders.Product, Orders.Price, Orders.OrderDate, \n",
    "       Orders.ProductCategory, Orders.SalesChannel\n",
    "FROM Orders\n",
    "JOIN Customers ON Orders.CustomerID = Customers.CustomerID;\n",
    "'''\n",
    "\n",
    "# Execute the query\n",
    "cursor.execute(query)\n",
    "rows = cursor.fetchall()\n",
    "\n",
    "# Define column headers\n",
    "columns = [\"Customer Name\", \"City\", \"Product\", \"Price\", \"Order Date\", \"OrderID\", \"Product Category\", \"Sales Channel\"]\n",
    "\n",
    "# Export to CSV\n",
    "csv_file = \"customer_orders_enhanced.csv\"\n",
    "with open(csv_file, \"w\", newline=\"\", encoding=\"utf-8\") as file:\n",
    "    writer = csv.writer(file)\n",
    "    writer.writerow(columns)  # Write headers\n",
    "    writer.writerows(rows)  # Write data\n",
    "\n",
    "print(f\"✅ Enhanced data exported to {csv_file}\")\n",
    "\n",
    "# Close connection\n",
    "conn.close()\n"
   ]
  },
  {
   "cell_type": "code",
   "execution_count": 115,
   "id": "69e7c3e6-34fe-4cda-90c9-3f9c47c72e2d",
   "metadata": {},
   "outputs": [
    {
     "name": "stdout",
     "output_type": "stream",
     "text": [
      "(1, 1, 'Laptop', 1200.5, '2025-03-11', None, None)\n",
      "(2, 1, 'Mouse', 25.99, '2025-03-12', None, None)\n",
      "(3, 2, 'Keyboard', 45.99, '2025-03-10', None, None)\n",
      "(4, 3, 'Monitor', 300.0, '2025-03-09', None, None)\n"
     ]
    }
   ],
   "source": [
    "import sqlite3\n",
    "\n",
    "# Connect to the database\n",
    "conn = sqlite3.connect(\"customer_purchases.db\")\n",
    "cursor = conn.cursor()\n",
    "\n",
    "# Fetch and print all rows from the Orders table\n",
    "cursor.execute('SELECT * FROM Orders')\n",
    "rows = cursor.fetchall()\n",
    "\n",
    "for row in rows:\n",
    "    print(row)\n",
    "\n",
    "conn.close()\n"
   ]
  },
  {
   "cell_type": "code",
   "execution_count": 116,
   "id": "364872db-20dd-460b-9b0a-4160cd322f75",
   "metadata": {},
   "outputs": [
    {
     "name": "stdout",
     "output_type": "stream",
     "text": [
      "(0, 'OrderID', 'INTEGER', 0, None, 1)\n",
      "(1, 'CustomerID', 'INTEGER', 0, None, 0)\n",
      "(2, 'Product', 'TEXT', 1, None, 0)\n",
      "(3, 'Price', 'REAL', 1, None, 0)\n",
      "(4, 'OrderDate', 'TEXT', 1, None, 0)\n",
      "(5, 'ProductCategory', 'TEXT', 0, None, 0)\n",
      "(6, 'SalesChannel', 'TEXT', 0, None, 0)\n"
     ]
    }
   ],
   "source": [
    "import sqlite3\n",
    "\n",
    "# Connect to the database\n",
    "conn = sqlite3.connect(\"customer_purchases.db\")\n",
    "cursor = conn.cursor()\n",
    "\n",
    "# Check the table schema\n",
    "cursor.execute(\"PRAGMA table_info(Orders);\")\n",
    "columns = cursor.fetchall()\n",
    "\n",
    "# Print the schema\n",
    "for column in columns:\n",
    "    print(column)\n",
    "\n",
    "# Close the connection\n",
    "conn.close()\n"
   ]
  },
  {
   "cell_type": "code",
   "execution_count": 117,
   "id": "818f9db4-2daa-4274-8637-1692994a1b9f",
   "metadata": {},
   "outputs": [
    {
     "name": "stdout",
     "output_type": "stream",
     "text": [
      "✅ Orders table updated successfully!\n"
     ]
    }
   ],
   "source": [
    "import sqlite3\n",
    "\n",
    "# Connect to the database\n",
    "conn = sqlite3.connect(\"customer_purchases.db\")\n",
    "cursor = conn.cursor()\n",
    "\n",
    "# Manually update the ProductCategory and SalesChannel values for each order\n",
    "orders_update = [\n",
    "    (1, \"Electronics\", \"Online\"),   # OrderID 1: ProductCategory = Electronics, SalesChannel = Online\n",
    "    (2, \"Accessories\", \"Store\"),    # OrderID 2: ProductCategory = Accessories, SalesChannel = Store\n",
    "    (3, \"Electronics\", \"Online\"),   # OrderID 3: ProductCategory = Electronics, SalesChannel = Online\n",
    "    (4, \"Electronics\", \"Online\")    # OrderID 4: ProductCategory = Electronics, SalesChannel = Online\n",
    "]\n",
    "\n",
    "# Correct SQL query to update product category and sales channel for specific orders\n",
    "cursor.executemany('''\n",
    "UPDATE Orders \n",
    "SET ProductCategory = ?, SalesChannel = ?\n",
    "WHERE OrderID = ?;\n",
    "''', orders_update)\n",
    "\n",
    "# Commit the changes\n",
    "conn.commit()\n",
    "\n",
    "# Close the connection\n",
    "conn.close()\n",
    "\n",
    "print(\"✅ Orders table updated successfully!\")\n"
   ]
  },
  {
   "cell_type": "code",
   "execution_count": 118,
   "id": "7eaf1997-8a1a-4a76-998b-cc8f4fa5e1aa",
   "metadata": {},
   "outputs": [
    {
     "name": "stdout",
     "output_type": "stream",
     "text": [
      "(1, 1, 'Laptop', 1200.5, '2025-03-11', None, None)\n",
      "(2, 1, 'Mouse', 25.99, '2025-03-12', None, None)\n",
      "(3, 2, 'Keyboard', 45.99, '2025-03-10', None, None)\n",
      "(4, 3, 'Monitor', 300.0, '2025-03-09', None, None)\n"
     ]
    }
   ],
   "source": [
    "import sqlite3\n",
    "\n",
    "# Connect to the database\n",
    "conn = sqlite3.connect(\"customer_purchases.db\")\n",
    "cursor = conn.cursor()\n",
    "\n",
    "# Fetch all rows from the Orders table\n",
    "cursor.execute('SELECT * FROM Orders')\n",
    "rows = cursor.fetchall()\n",
    "\n",
    "# Print all rows to verify the data\n",
    "for row in rows:\n",
    "    print(row)\n",
    "\n",
    "# Close the connection\n",
    "conn.close()\n"
   ]
  },
  {
   "cell_type": "code",
   "execution_count": 119,
   "id": "54a7a8f8-84be-4e82-95cd-ea617954f02d",
   "metadata": {},
   "outputs": [
    {
     "name": "stdout",
     "output_type": "stream",
     "text": [
      "(0, 'OrderID', 'INTEGER', 0, None, 1)\n",
      "(1, 'CustomerID', 'INTEGER', 0, None, 0)\n",
      "(2, 'Product', 'TEXT', 1, None, 0)\n",
      "(3, 'Price', 'REAL', 1, None, 0)\n",
      "(4, 'OrderDate', 'TEXT', 1, None, 0)\n",
      "(5, 'ProductCategory', 'TEXT', 0, None, 0)\n",
      "(6, 'SalesChannel', 'TEXT', 0, None, 0)\n"
     ]
    }
   ],
   "source": [
    "import sqlite3\n",
    "\n",
    "# Connect to the database\n",
    "conn = sqlite3.connect(\"customer_purchases.db\")\n",
    "cursor = conn.cursor()\n",
    "\n",
    "# Check the table schema\n",
    "cursor.execute(\"PRAGMA table_info(Orders);\")\n",
    "columns = cursor.fetchall()\n",
    "\n",
    "# Print the schema\n",
    "for column in columns:\n",
    "    print(column)\n",
    "\n",
    "# Close the connection\n",
    "conn.close()\n"
   ]
  },
  {
   "cell_type": "code",
   "execution_count": 121,
   "id": "1a8a0e8a-2a16-4b04-9add-126a3713b9a2",
   "metadata": {},
   "outputs": [
    {
     "name": "stdout",
     "output_type": "stream",
     "text": [
      "✅ Orders table updated successfully!\n"
     ]
    }
   ],
   "source": [
    "import sqlite3\n",
    "\n",
    "# Connect to the database\n",
    "conn = sqlite3.connect(\"customer_purchases.db\")\n",
    "cursor = conn.cursor()\n",
    "\n",
    "# Update the ProductCategory and SalesChannel values for each order\n",
    "orders_update = [\n",
    "    (1, \"Electronics\", \"Online\"),   # OrderID 1\n",
    "    (2, \"Accessories\", \"Store\"),    # OrderID 2\n",
    "    (3, \"Electronics\", \"Online\"),   # OrderID 3\n",
    "    (4, \"Electronics\", \"Online\")    # OrderID 4\n",
    "]\n",
    "\n",
    "# Execute the update query\n",
    "cursor.executemany('''\n",
    "UPDATE Orders \n",
    "SET ProductCategory = ?, SalesChannel = ?\n",
    "WHERE OrderID = ?;\n",
    "''', orders_update)\n",
    "\n",
    "# Commit the changes\n",
    "conn.commit()\n",
    "\n",
    "# Close the connection\n",
    "conn.close()\n",
    "\n",
    "print(\"✅ Orders table updated successfully!\")\n",
    "\n"
   ]
  },
  {
   "cell_type": "code",
   "execution_count": 122,
   "id": "157930eb-2951-4d95-83e2-8c154808cd94",
   "metadata": {},
   "outputs": [
    {
     "name": "stdout",
     "output_type": "stream",
     "text": [
      "(1, 1, 'Laptop', 1200.5, '2025-03-11', None, None)\n",
      "(2, 1, 'Mouse', 25.99, '2025-03-12', None, None)\n",
      "(3, 2, 'Keyboard', 45.99, '2025-03-10', None, None)\n",
      "(4, 3, 'Monitor', 300.0, '2025-03-09', None, None)\n"
     ]
    }
   ],
   "source": [
    "import sqlite3\n",
    "\n",
    "# Connect to the database\n",
    "conn = sqlite3.connect(\"customer_purchases.db\")\n",
    "cursor = conn.cursor()\n",
    "\n",
    "# Fetch all rows from the Orders table\n",
    "cursor.execute('SELECT * FROM Orders')\n",
    "rows = cursor.fetchall()\n",
    "\n",
    "# Print all rows to verify the data\n",
    "for row in rows:\n",
    "    print(row)\n",
    "\n",
    "# Close the connection\n",
    "conn.close()\n"
   ]
  },
  {
   "cell_type": "code",
   "execution_count": null,
   "id": "3de5207e-998f-4bb3-b3b3-13634be1fca9",
   "metadata": {},
   "outputs": [],
   "source": []
  }
 ],
 "metadata": {
  "kernelspec": {
   "display_name": "Python 3 (ipykernel)",
   "language": "python",
   "name": "python3"
  },
  "language_info": {
   "codemirror_mode": {
    "name": "ipython",
    "version": 3
   },
   "file_extension": ".py",
   "mimetype": "text/x-python",
   "name": "python",
   "nbconvert_exporter": "python",
   "pygments_lexer": "ipython3",
   "version": "3.13.2"
  }
 },
 "nbformat": 4,
 "nbformat_minor": 5
}
